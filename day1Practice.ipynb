{
 "cells": [
  {
   "cell_type": "code",
   "execution_count": 1,
   "metadata": {},
   "outputs": [
    {
     "name": "stdout",
     "output_type": "stream",
     "text": [
      "qwe123asdzxc\n"
     ]
    }
   ],
   "source": [
    "myStr1 = \"qwe123asdzxc\"\n",
    "print(myStr1)"
   ]
  },
  {
   "cell_type": "code",
   "execution_count": 2,
   "metadata": {},
   "outputs": [
    {
     "data": {
      "text/plain": [
       "str"
      ]
     },
     "execution_count": 2,
     "metadata": {},
     "output_type": "execute_result"
    }
   ],
   "source": [
    "type(myStr1)"
   ]
  },
  {
   "cell_type": "code",
   "execution_count": 3,
   "metadata": {},
   "outputs": [
    {
     "data": {
      "text/plain": [
       "'4'"
      ]
     },
     "execution_count": 3,
     "metadata": {},
     "output_type": "execute_result"
    }
   ],
   "source": [
    "myStr2 = \"1234567890\"\n",
    "myStr2[3]"
   ]
  },
  {
   "cell_type": "code",
   "execution_count": 4,
   "metadata": {},
   "outputs": [
    {
     "data": {
      "text/plain": [
       "str"
      ]
     },
     "execution_count": 4,
     "metadata": {},
     "output_type": "execute_result"
    }
   ],
   "source": [
    "type(myStr2)"
   ]
  },
  {
   "cell_type": "code",
   "execution_count": 7,
   "metadata": {},
   "outputs": [
    {
     "name": "stdout",
     "output_type": "stream",
     "text": [
      "2468\n"
     ]
    }
   ],
   "source": [
    "myInt = 2468\n",
    "print(myInt)"
   ]
  },
  {
   "cell_type": "code",
   "execution_count": 8,
   "metadata": {},
   "outputs": [
    {
     "data": {
      "text/plain": [
       "int"
      ]
     },
     "execution_count": 8,
     "metadata": {},
     "output_type": "execute_result"
    }
   ],
   "source": [
    "type(myInt + 2000)"
   ]
  },
  {
   "cell_type": "code",
   "execution_count": 10,
   "metadata": {},
   "outputs": [
    {
     "data": {
      "text/plain": [
       "1234.0"
      ]
     },
     "execution_count": 10,
     "metadata": {},
     "output_type": "execute_result"
    }
   ],
   "source": [
    "(myInt/2)"
   ]
  },
  {
   "cell_type": "code",
   "execution_count": 11,
   "metadata": {},
   "outputs": [],
   "source": [
    "myTup = (3, 4.789,'safsadfa',2,True,'Bob',3)"
   ]
  },
  {
   "cell_type": "code",
   "execution_count": 12,
   "metadata": {},
   "outputs": [
    {
     "data": {
      "text/plain": [
       "7"
      ]
     },
     "execution_count": 12,
     "metadata": {},
     "output_type": "execute_result"
    }
   ],
   "source": [
    "len(myTup)"
   ]
  },
  {
   "cell_type": "code",
   "execution_count": 13,
   "metadata": {},
   "outputs": [
    {
     "data": {
      "text/plain": [
       "'safsadfa'"
      ]
     },
     "execution_count": 13,
     "metadata": {},
     "output_type": "execute_result"
    }
   ],
   "source": [
    "myTup[2]"
   ]
  },
  {
   "cell_type": "code",
   "execution_count": 18,
   "metadata": {},
   "outputs": [
    {
     "name": "stdout",
     "output_type": "stream",
     "text": [
      "1\n",
      "0\n",
      "2\n"
     ]
    }
   ],
   "source": [
    "print(myTup.count('Bob'))\n",
    "print(myTup.count('Tom'))\n",
    "print(myTup.count(3))"
   ]
  },
  {
   "cell_type": "code",
   "execution_count": 26,
   "metadata": {},
   "outputs": [
    {
     "name": "stdout",
     "output_type": "stream",
     "text": [
      "0\n",
      "1\n",
      "6\n"
     ]
    },
    {
     "ename": "ValueError",
     "evalue": "tuple.index(x): x not in tuple",
     "output_type": "error",
     "traceback": [
      "\u001b[1;31m---------------------------------------------------------------------------\u001b[0m",
      "\u001b[1;31mValueError\u001b[0m                                Traceback (most recent call last)",
      "Cell \u001b[1;32mIn[26], line 4\u001b[0m\n\u001b[0;32m      2\u001b[0m \u001b[39mprint\u001b[39m(myTup\u001b[39m.\u001b[39mindex(\u001b[39m4.789\u001b[39m))\n\u001b[0;32m      3\u001b[0m \u001b[39mprint\u001b[39m(myTup\u001b[39m.\u001b[39mindex(\u001b[39m3\u001b[39m,\u001b[39m1\u001b[39m))\n\u001b[1;32m----> 4\u001b[0m \u001b[39mprint\u001b[39m(myTup\u001b[39m.\u001b[39;49mindex(\u001b[39m3\u001b[39;49m,\u001b[39m1\u001b[39;49m,\u001b[39m6\u001b[39;49m))\n",
      "\u001b[1;31mValueError\u001b[0m: tuple.index(x): x not in tuple"
     ]
    }
   ],
   "source": [
    "print(myTup.index(3))\n",
    "print(myTup.index(4.789))\n",
    "print(myTup.index(3,1))\n",
    "print(myTup.index(3,1,6))"
   ]
  },
  {
   "cell_type": "code",
   "execution_count": 54,
   "metadata": {},
   "outputs": [
    {
     "name": "stdout",
     "output_type": "stream",
     "text": [
      "[5, 6, 2, 3.45, 2.17, 'Dave', 'Jill', True, 5]\n",
      "9\n",
      "6\n",
      "1\n",
      "2\n",
      "[5, 6, 2, 3.45, 2.17, 'Dave', 'Jill', True, 5, 'DA']\n",
      "[5, 'Canada', 6, 2, 3.45, 2.17, 'Dave', 'Jill', True, 5, 'DA']\n",
      "11\n",
      "[5, 'Canada', 6, 2, 3.45, 2.17, 'Dave', 'Jill', True, 5, 'DA', 'Rocky', 'Chan', 'HK']\n",
      "14\n",
      "['HK', 'Chan', 'Rocky', 'DA', 5, True, 'Jill', 'Dave', 2.17, 3.45, 2, 6, 'Canada', 5]\n",
      "[5, 'Canada', 6, 2, 3.45, 2.17, 'Dave', 'Jill', True, 5, 'DA', 'Rocky', 'Chan', 'HK']\n",
      "6\n",
      "[5, 'Canada', 2, 3.45, 2.17, 'Dave', 'Jill', True, 5, 'DA', 'Rocky', 'Chan', 'HK']\n"
     ]
    }
   ],
   "source": [
    "myList = [5,6,2,3.45,2.17,'Dave','Jill',True,5]\n",
    "print(myList)\n",
    "print(len(myList))\n",
    "print(myList[1])\n",
    "print(myList.index(6))\n",
    "print(myList.count(5))\n",
    "myList.append('DA')\n",
    "print(myList)\n",
    "myList.insert(1,'Canada')\n",
    "print(myList)\n",
    "print(len(myList))\n",
    "myList.extend(('Rocky','Chan','HK'))\n",
    "print(myList)\n",
    "print(len(myList))\n",
    "myList.reverse()\n",
    "print(myList)\n",
    "myList.reverse()\n",
    "print(myList)\n",
    "print(myList.pop(2))\n",
    "print(myList)"
   ]
  }
 ],
 "metadata": {
  "kernelspec": {
   "display_name": "Python 3",
   "language": "python",
   "name": "python3"
  },
  "language_info": {
   "codemirror_mode": {
    "name": "ipython",
    "version": 3
   },
   "file_extension": ".py",
   "mimetype": "text/x-python",
   "name": "python",
   "nbconvert_exporter": "python",
   "pygments_lexer": "ipython3",
   "version": "3.9.10"
  },
  "orig_nbformat": 4
 },
 "nbformat": 4,
 "nbformat_minor": 2
}
